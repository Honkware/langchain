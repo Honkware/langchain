{
 "cells": [
  {
   "cell_type": "markdown",
   "metadata": {},
   "source": [
    "# CoinGecko API\n",
    "\n",
    "This notebook goes over how to use the CoinGecko component to fetch information for a specified cryptocurrency.\n",
    "\n",
    "1. pip install pycoingecko\n",
    "2. Optional: Save your Pro API key into coingecko_api_key"
   ]
  },
  {
   "cell_type": "code",
   "execution_count": null,
   "metadata": {},
   "outputs": [],
   "source": [
    "pip install pycoingecko"
   ]
  },
  {
   "cell_type": "code",
   "execution_count": 2,
   "metadata": {},
   "outputs": [],
   "source": [
    "import os\n",
    "os.environ[\"COINGECKO_API_KEY\"] = \"\""
   ]
  },
  {
   "cell_type": "code",
   "execution_count": 3,
   "metadata": {},
   "outputs": [],
   "source": [
    "from langchain.utilities import CoinGeckoAPIWrapper"
   ]
  },
  {
   "cell_type": "code",
   "execution_count": 4,
   "metadata": {},
   "outputs": [],
   "source": [
    "coingecko = CoinGeckoAPIWrapper()"
   ]
  },
  {
   "cell_type": "code",
   "execution_count": 5,
   "metadata": {},
   "outputs": [
    {
     "name": "stdout",
     "output_type": "stream",
     "text": [
      "Coin information for bitcoin:\n",
      "  In USD:\n",
      "    Price: $28,194.00\n",
      "    Market cap: $545,414,822,205.61\n",
      "    24h volume: $21,573,208,946.63\n",
      "    24h change: -0.64%\n"
     ]
    }
   ],
   "source": [
    "# Fetch information for a single coin and currency\n",
    "coin_data_single = coingecko.run(\"bitcoin\")\n",
    "print(coin_data_single)"
   ]
  },
  {
   "cell_type": "code",
   "execution_count": 6,
   "metadata": {},
   "outputs": [
    {
     "name": "stdout",
     "output_type": "stream",
     "text": [
      "Coin information for bitcoin:\n",
      "  In USD:\n",
      "    Price: $28,195.00\n",
      "    Market cap: $545,414,822,205.61\n",
      "    24h volume: $21,576,356,924.56\n",
      "    24h change: -0.63%\n",
      "  In EUR:\n",
      "    Price: $25,853.00\n",
      "    Market cap: $500,256,111,171.45\n",
      "    24h volume: $19,784,440,481.97\n",
      "    24h change: -1.36%\n",
      "\n",
      "Coin information for ethereum:\n",
      "  In USD:\n",
      "    Price: $1,786.58\n",
      "    Market cap: $215,173,780,942.31\n",
      "    24h volume: $10,510,194,229.48\n",
      "    24h change: -0.96%\n",
      "  In EUR:\n",
      "    Price: $1,638.20\n",
      "    Market cap: $197,358,037,401.63\n",
      "    24h volume: $9,637,322,598.72\n",
      "    24h change: -1.68%\n"
     ]
    }
   ],
   "source": [
    "# Fetch information for multiple coins and currencies\n",
    "coin_data_multiple = coingecko.run(\"bitcoin,ethereum\", \"usd,eur\")\n",
    "print(coin_data_multiple)"
   ]
  }
 ],
 "metadata": {
  "kernelspec": {
   "display_name": "Python 3 (ipykernel)",
   "language": "python",
   "name": "python3"
  },
  "language_info": {
   "codemirror_mode": {
    "name": "ipython",
    "version": 3
   },
   "file_extension": ".py",
   "mimetype": "text/x-python",
   "name": "python",
   "nbconvert_exporter": "python",
   "pygments_lexer": "ipython3",
   "version": "3.10.9"
  },
  "vscode": {
   "interpreter": {
    "hash": "1cf1acdf5e25a0d7552970310ce546e0636f334c1398c1caaadab3ec6368fef9"
   }
  }
 },
 "nbformat": 4,
 "nbformat_minor": 2
}
